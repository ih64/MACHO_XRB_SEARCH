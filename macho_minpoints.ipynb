{
 "metadata": {
  "name": "",
  "signature": "sha256:b9a2b44c21bef1831ede39f6651d1a86b61a5d95ec856bdd2e765ee60bca951c"
 },
 "nbformat": 3,
 "nbformat_minor": 0,
 "worksheets": [
  {
   "cells": [
    {
     "cell_type": "code",
     "collapsed": false,
     "input": [
      "import pandas as pd\n",
      "import glob \n",
      "\n",
      "file_list = glob.glob(\"/Users/buxton/Desktop/MACHO_XRB_SEARCH/F_1/*\")\n",
      "rms_files = []\n",
      "\n",
      "for machofile in file_list:\n",
      "    input_data = pd.read_table(machofile,skiprows=10,header=None,sep=\"\\s+\",names=['Date','Obsid','Pier','Exposure','Checklist','Airmass','rMag','rErr','rDS','rTF','rCP','rX2','rMP','rCR','rA','rXpix','rYpix','rSky','rFWHM','rTobs','r','bMag','bErr','bDS','bTF','bCP','bX2','bMP','bCR','bA','bXpix','bYpix','bSky','bFWHM','bTobs','b'],na_values=-99,comment='#',error_bad_lines=False,index_col=False)\n",
      "    data = pd.DataFrame(input_data)\n",
      "    cleaned_data = data[(data['rMag'].notnull()) & (data['Airmass']<=2.0)] #use only rows that have data and where airmass <= 2.0\n",
      "    if(len(cleaned_data) >= 100):\n",
      "        rms_files.append(machofile)\n",
      "        \n",
      "print len(file_list)\n",
      "print len(rms_files)"
     ],
     "language": "python",
     "metadata": {},
     "outputs": [
      {
       "output_type": "stream",
       "stream": "stdout",
       "text": [
        "4281\n",
        "4164\n"
       ]
      }
     ],
     "prompt_number": 4
    },
    {
     "cell_type": "code",
     "collapsed": false,
     "input": [],
     "language": "python",
     "metadata": {},
     "outputs": []
    }
   ],
   "metadata": {}
  }
 ]
}